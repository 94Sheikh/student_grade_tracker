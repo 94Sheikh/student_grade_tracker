{
 "cells": [
  {
   "cell_type": "markdown",
   "id": "468bf815",
   "metadata": {},
   "source": [
    "# Grade Calculater"
   ]
  },
  {
   "cell_type": "markdown",
   "id": "9ca5c031",
   "metadata": {},
   "source": [
    " you will create a grade calculator using Python that will take input from the user for the marks obtained in various subjects and calculate the average and overall grade.\n",
    "\n",
    "The program should perform the following tasks:\n",
    "\n",
    "Take input from the user for the marks obtained in each subject. You can assume that there are five subjects in total.\n",
    "\n",
    "Calculate the average marks obtained by the user.\n",
    "\n",
    "Use the average marks to determine the grade of the user. The grading scale can be as follows:\n",
    "\n",
    "90% and above: A\n",
    "80% - 89%: B\n",
    "70% - 79%: C\n",
    "60% - 69%: D\n",
    "Below 60%: F\n",
    "Display the average marks and overall grade to the user.\n",
    "\n",
    "To complete this project, you can use the following programming concepts:\n",
    "\n",
    "Variables and data types (e.g. integers, floats, strings)\n",
    "If else statements\n",
    "For loops (to iterate over the input for each subject)\n",
    "Functions (to calculate the average and determine the grade)"
   ]
  },
  {
   "cell_type": "code",
   "execution_count": 10,
   "id": "181d6b70",
   "metadata": {},
   "outputs": [
    {
     "name": "stdout",
     "output_type": "stream",
     "text": [
      "Enter Marks Your Subject1: 56\n",
      "Enter Marks Your Subject2: 79\n",
      "Enter Marks Your Subject3: 87\n",
      "Enter Marks Your Subject4: 98\n",
      "Enter Marks Your Subject5: 98\n",
      "You got average marks is 83.6 & your grade is B\n"
     ]
    }
   ],
   "source": [
    "# Average Marks\n",
    "def average_marks(marks):\n",
    "    total = sum(marks)\n",
    "    average_total = total/len(marks)\n",
    "    return average_total\n",
    "\n",
    "#print(average_marks(subject_marks))\n",
    "\n",
    "\n",
    "# determine grade\n",
    "\n",
    "def determine_grade(average_total):\n",
    "    if average_total > 90:\n",
    "        return \"A\"\n",
    "    elif average_total >= 80 and average_total <= 89:\n",
    "        return \"B\"\n",
    "    elif average_total >= 70 and average_total <= 79:\n",
    "        return \"C\" \n",
    "    elif average_total >= 60 and average_total <= 69:\n",
    "        return \"D\"\n",
    "    else:\n",
    "        return \"F\"\n",
    "    \n",
    "    \n",
    "def main():\n",
    "    subject_marks = []\n",
    "    for i in range(5):\n",
    "        subject_marks.append(int(input(f\"Enter Marks Your Subject{i + 1}: \")))\n",
    "    average_total = average_marks(subject_marks)\n",
    "    \n",
    "    grade = determine_grade(average_total)\n",
    "    \n",
    "    print(f\"You got average marks is {average_total} & your grade is {grade}\")\n",
    "    \n",
    "main()\n",
    "        \n",
    "    \n",
    "    \n",
    "        \n",
    "    \n",
    "    "
   ]
  },
  {
   "cell_type": "code",
   "execution_count": null,
   "id": "b3b507a3",
   "metadata": {},
   "outputs": [],
   "source": []
  },
  {
   "cell_type": "code",
   "execution_count": 1,
   "id": "af488193",
   "metadata": {},
   "outputs": [
    {
     "name": "stdout",
     "output_type": "stream",
     "text": [
      "[[{'Name': 'Haider'}]]\n",
      "[[{'Name': 'Faisal'}]]\n"
     ]
    }
   ],
   "source": [
    "def list_item(name):\n",
    "    main_lst = []\n",
    "    my_list = []\n",
    "    my_dict = {}\n",
    "    my_dict[\"Name\"] = name\n",
    "    my_list.append(my_dict)\n",
    "    main_lst.append(my_list)\n",
    "    print(main_lst)\n",
    "    \n",
    "list_item(\"Haider\")\n",
    "list_item(\"Faisal\")"
   ]
  },
  {
   "cell_type": "code",
   "execution_count": null,
   "id": "ef0c52a7",
   "metadata": {},
   "outputs": [],
   "source": []
  }
 ],
 "metadata": {
  "kernelspec": {
   "display_name": "Python 3 (ipykernel)",
   "language": "python",
   "name": "python3"
  },
  "language_info": {
   "codemirror_mode": {
    "name": "ipython",
    "version": 3
   },
   "file_extension": ".py",
   "mimetype": "text/x-python",
   "name": "python",
   "nbconvert_exporter": "python",
   "pygments_lexer": "ipython3",
   "version": "3.9.13"
  }
 },
 "nbformat": 4,
 "nbformat_minor": 5
}
